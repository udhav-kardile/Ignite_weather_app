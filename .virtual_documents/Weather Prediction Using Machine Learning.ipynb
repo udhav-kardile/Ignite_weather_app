# import necessary libraries


import numpy as np
import pandas as pd
import re
import scipy
import seaborn as sns
from scipy import stats


from scipy.stats import pearsonr, ttest_ind
from sklearn.metrics import accuracy_score, classification_report, confusion_matrix
from sklearn.model_selection import train_test_split
from sklearn.preprocessing import LabelEncoder, StandardScaler



